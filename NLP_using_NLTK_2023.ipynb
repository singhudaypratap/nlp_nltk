{
  "nbformat": 4,
  "nbformat_minor": 0,
  "metadata": {
    "colab": {
      "provenance": [],
      "collapsed_sections": [
        "UaZL0-LFm3TY",
        "NMr3Nm5bq3NI",
        "FqFgfTiTrkPx",
        "0nRCqAmJgYcu",
        "5ggDuBvMDrat"
      ]
    },
    "kernelspec": {
      "name": "python3",
      "display_name": "Python 3"
    },
    "language_info": {
      "name": "python"
    }
  },
  "cells": [
    {
      "cell_type": "markdown",
      "source": [
        "#Tokenizing"
      ],
      "metadata": {
        "id": "MkrG1KfJTpeg"
      }
    },
    {
      "cell_type": "code",
      "execution_count": null,
      "metadata": {
        "colab": {
          "base_uri": "https://localhost:8080/"
        },
        "id": "b2aAgWbWKw4m",
        "outputId": "193f7656-363a-4c13-c37c-48d321a9e9be"
      },
      "outputs": [
        {
          "output_type": "stream",
          "name": "stdout",
          "text": [
            "Looking in indexes: https://pypi.org/simple, https://us-python.pkg.dev/colab-wheels/public/simple/\n",
            "Requirement already satisfied: nltk in /usr/local/lib/python3.7/dist-packages (3.7)\n",
            "Requirement already satisfied: click in /usr/local/lib/python3.7/dist-packages (from nltk) (7.1.2)\n",
            "Requirement already satisfied: regex>=2021.8.3 in /usr/local/lib/python3.7/dist-packages (from nltk) (2022.6.2)\n",
            "Requirement already satisfied: tqdm in /usr/local/lib/python3.7/dist-packages (from nltk) (4.64.0)\n",
            "Requirement already satisfied: joblib in /usr/local/lib/python3.7/dist-packages (from nltk) (1.1.0)\n"
          ]
        }
      ],
      "source": [
        "#instaliing and importing usefull library\n",
        "!pip install nltk\n",
        "import nltk\n",
        "from nltk.tokenize import sent_tokenize, word_tokenize"
      ]
    },
    {
      "cell_type": "markdown",
      "source": [
        "**Punkt Sentence Tokenizer**\n",
        "\n",
        "punkt tokenizer divides a text into a list of sentences by using an unsupervised algorithm to build a model for abbreviation words, collocations, and words that start sentences. It must be trained on a large collection of plaintext in the target language before it can be used."
      ],
      "metadata": {
        "id": "2gPkmuV8TLKB"
      }
    },
    {
      "cell_type": "code",
      "source": [
        "nltk.download('punkt') \n",
        "#https://www.nltk.org/api/nltk.tokenize.punkt.html"
      ],
      "metadata": {
        "colab": {
          "base_uri": "https://localhost:8080/"
        },
        "id": "uUD-mQDyTkqq",
        "outputId": "96e66544-6dd9-4bf9-bf21-7d7e686b8c63"
      },
      "execution_count": null,
      "outputs": [
        {
          "output_type": "stream",
          "name": "stderr",
          "text": [
            "[nltk_data] Downloading package punkt to /root/nltk_data...\n",
            "[nltk_data]   Unzipping tokenizers/punkt.zip.\n"
          ]
        },
        {
          "output_type": "execute_result",
          "data": {
            "text/plain": [
              "True"
            ]
          },
          "metadata": {},
          "execution_count": 2
        }
      ]
    },
    {
      "cell_type": "code",
      "source": [
        "import nltk\n",
        "\n",
        "text = \"This is an example paragraph. It contains multiple sentences. We will use the sent_tokenize function to split the text into sentences.\"\n",
        "\n",
        "sentences = nltk.sent_tokenize(text)\n",
        "\n",
        "for sentence in sentences:\n",
        "    print(sentence)\n"
      ],
      "metadata": {
        "id": "ng2Gd5CVg0S9"
      },
      "execution_count": null,
      "outputs": []
    },
    {
      "cell_type": "code",
      "source": [
        "example_string = \"\"\"\n",
        "... Poornima Institute of Engineering & Technology, was established in 2007 with the aim of imparting pragmatic technical education. \n",
        "... In its magnificent journey of 12 years, PIET has set benchmarks and reached at new pinnacles in Engineering Education with dedication, perseverance and devotion. PIET is spearheading its outstanding voyage with the motto ‘Success is not a destination, it’s a journey’.\"\"\"\n",
        "\n"
      ],
      "metadata": {
        "id": "I2_IumzQLW_7"
      },
      "execution_count": null,
      "outputs": []
    },
    {
      "cell_type": "code",
      "source": [
        "print(example_string.strip())"
      ],
      "metadata": {
        "colab": {
          "base_uri": "https://localhost:8080/"
        },
        "id": "0xjo_fNUMGzW",
        "outputId": "79a5032e-7104-4f8e-f229-ed51f0e30aaa"
      },
      "execution_count": null,
      "outputs": [
        {
          "output_type": "stream",
          "name": "stdout",
          "text": [
            "Poornima Institute of Engineering & Technology, was established in 2007 with the aim of imparting pragmatic technical education. \n",
            "In its magnificent journey of 12 years, PIET has set benchmarks and reached at new pinnacles in Engineering Education with dedication, perseverance and devotion. PIET is spearheading its outstanding voyage with the motto ‘Success is not a destination, it’s a journey’.\n"
          ]
        }
      ]
    },
    {
      "cell_type": "code",
      "source": [
        "sent_tokenize(example_string)"
      ],
      "metadata": {
        "colab": {
          "base_uri": "https://localhost:8080/"
        },
        "id": "yz6z3zyuMd6M",
        "outputId": "a2b75ecd-7603-44ae-c01e-eaa805c3e3a9"
      },
      "execution_count": null,
      "outputs": [
        {
          "output_type": "execute_result",
          "data": {
            "text/plain": [
              "['\\nPoornima Institute of Engineering & Technology, was established in 2007 with the aim of imparting pragmatic technical education.',\n",
              " 'In its magnificent journey of 12 years, PIET has set benchmarks and reached at new pinnacles in Engineering Education with dedication, perseverance and devotion.',\n",
              " 'PIET is spearheading its outstanding voyage with the motto ‘Success is not a destination, it’s a journey’.']"
            ]
          },
          "metadata": {},
          "execution_count": 5
        }
      ]
    },
    {
      "cell_type": "code",
      "source": [
        "tokenized_word=word_tokenize(example_string)\n",
        "print(tokenized_word)"
      ],
      "metadata": {
        "id": "zL53wnlQMMbC",
        "colab": {
          "base_uri": "https://localhost:8080/"
        },
        "outputId": "dd89a9a8-0e8c-4e86-a826-527382afccbb"
      },
      "execution_count": null,
      "outputs": [
        {
          "output_type": "stream",
          "name": "stdout",
          "text": [
            "['Poornima', 'Institute', 'of', 'Engineering', '&', 'Technology', ',', 'was', 'established', 'in', '2007', 'with', 'the', 'aim', 'of', 'imparting', 'pragmatic', 'technical', 'education', '.', 'In', 'its', 'magnificent', 'journey', 'of', '12', 'years', ',', 'PIET', 'has', 'set', 'benchmarks', 'and', 'reached', 'at', 'new', 'pinnacles', 'in', 'Engineering', 'Education', 'with', 'dedication', ',', 'perseverance', 'and', 'devotion', '.', 'PIET', 'is', 'spearheading', 'its', 'outstanding', 'voyage', 'with', 'the', 'motto', '‘', 'Success', 'is', 'not', 'a', 'destination', ',', 'it', '’', 's', 'a', 'journey', '’', '.']\n"
          ]
        }
      ]
    },
    {
      "cell_type": "markdown",
      "source": [
        "**Frequency Distribution of words:**\n",
        "We can generate the frequency distribution of words in a text by using the FreqDist() in NLTK."
      ],
      "metadata": {
        "id": "C0zi-GaZbrhF"
      }
    },
    {
      "cell_type": "code",
      "source": [
        "from nltk import FreqDist\n"
      ],
      "metadata": {
        "id": "zN2IMhkpmbeX"
      },
      "execution_count": null,
      "outputs": []
    },
    {
      "cell_type": "code",
      "source": [
        "from nltk.probability import FreqDist\n",
        "freq_dist_of_words = FreqDist(tokenized_word)"
      ],
      "metadata": {
        "id": "mkdbZWq_JNeE"
      },
      "execution_count": null,
      "outputs": []
    },
    {
      "cell_type": "code",
      "source": [
        "freq_dist_of_words.most_common(8)"
      ],
      "metadata": {
        "colab": {
          "base_uri": "https://localhost:8080/"
        },
        "id": "O3ndC02uJkAP",
        "outputId": "847a7de1-4464-4cd8-d1cd-874167841abd"
      },
      "execution_count": null,
      "outputs": [
        {
          "output_type": "execute_result",
          "data": {
            "text/plain": [
              "[(',', 4),\n",
              " ('of', 3),\n",
              " ('with', 3),\n",
              " ('.', 3),\n",
              " ('Engineering', 2),\n",
              " ('in', 2),\n",
              " ('the', 2),\n",
              " ('its', 2)]"
            ]
          },
          "metadata": {},
          "execution_count": 8
        }
      ]
    },
    {
      "cell_type": "code",
      "source": [
        "import matplotlib.pyplot as plt\n",
        "freq_dist_of_words.plot(30,cumulative=False)\n",
        "plt.show()"
      ],
      "metadata": {
        "colab": {
          "base_uri": "https://localhost:8080/",
          "height": 330
        },
        "id": "u1WHvDsPJp-G",
        "outputId": "cf6971e4-9be3-4471-9b3f-50206fdb7d10"
      },
      "execution_count": null,
      "outputs": [
        {
          "output_type": "display_data",
          "data": {
            "text/plain": [
              "<Figure size 432x288 with 1 Axes>"
            ],
            "image/png": "[encoded data removed]"
          },
          "metadata": {
            "needs_background": "light"
          }
        }
      ]
    },
    {
      "cell_type": "markdown",
      "source": [
        "## Filtering Stop Words"
      ],
      "metadata": {
        "id": "Enpx6tycTiff"
      }
    },
    {
      "cell_type": "code",
      "source": [
        "nltk.download(\"stopwords\")\n",
        "from nltk.corpus import stopwords\n",
        "from nltk.tokenize import word_tokenize"
      ],
      "metadata": {
        "colab": {
          "base_uri": "https://localhost:8080/"
        },
        "id": "mCYaum90SHu9",
        "outputId": "076cda3b-666d-4319-fac7-72f0c16e4c27"
      },
      "execution_count": null,
      "outputs": [
        {
          "output_type": "stream",
          "name": "stderr",
          "text": [
            "[nltk_data] Downloading package stopwords to /root/nltk_data...\n",
            "[nltk_data]   Unzipping corpora/stopwords.zip.\n"
          ]
        }
      ]
    },
    {
      "cell_type": "code",
      "source": [
        "stop_words = set(stopwords.words(\"english\"))\n",
        "print(stop_words)"
      ],
      "metadata": {
        "colab": {
          "base_uri": "https://localhost:8080/"
        },
        "id": "ignfpGY6WYxN",
        "outputId": "5379c716-b61e-4c53-9a00-917917ed9f3d"
      },
      "execution_count": null,
      "outputs": [
        {
          "output_type": "stream",
          "name": "stdout",
          "text": [
            "{'been', 'an', 'any', \"don't\", \"weren't\", \"it's\", 'is', 'mightn', \"you'll\", 've', 'him', \"haven't\", 'this', 'your', 'through', 'during', 'further', \"wouldn't\", 't', 'over', 'ours', 'you', 'against', 'do', 'yours', 'why', 'doing', 'from', 'down', 'where', \"mightn't\", 'can', \"should've\", 'themselves', 'most', 'of', 'd', 'such', 'how', 'hadn', 'had', 'has', \"won't\", 'the', 'have', 'whom', \"she's\", 'and', 'hers', 'but', 'couldn', 'both', 'no', 'once', 'own', 'll', 'aren', 'their', 'itself', 'am', 'to', 'be', 'very', 'because', 'again', \"couldn't\", 'theirs', 'as', 'having', \"shan't\", 'did', \"that'll\", 'now', 'few', 'in', 'nor', 'not', 'than', \"hasn't\", 'being', 'we', 'it', 'these', 'below', 'm', 'shan', 'on', 'then', 'there', 'by', \"you're\", 'same', 'won', 'for', \"aren't\", 'those', 'don', 'at', 'needn', 'does', 'hasn', 'ourselves', 'isn', 'haven', 'himself', \"hadn't\", \"doesn't\", 'under', 'each', 'his', 'into', 'above', 'so', 'was', 'wouldn', 'they', 'them', 're', 'me', 'here', \"needn't\", 'about', 'wasn', 'her', 'which', 'she', 'other', 'he', \"you'd\", 'until', 'all', 'o', 'that', 'what', 'with', 'before', 'out', 'y', \"shouldn't\", 'mustn', \"wasn't\", 'after', \"didn't\", 'didn', 'myself', 'doesn', \"isn't\", 'between', \"you've\", 'should', 'weren', 'my', 'just', 'were', 'yourself', 'some', 'will', 'a', 'while', 'up', 'ain', 'yourselves', 's', 'who', \"mustn't\", 'more', 'or', 'ma', 'shouldn', 'herself', 'only', 'our', 'when', 'i', 'its', 'off', 'if', 'are', 'too'}\n"
          ]
        }
      ]
    },
    {
      "cell_type": "code",
      "source": [
        "quote = \"What is your Name\""
      ],
      "metadata": {
        "id": "kfkdQc0lVANK"
      },
      "execution_count": null,
      "outputs": []
    },
    {
      "cell_type": "code",
      "source": [
        "words_in_quote = word_tokenize(quote)\n",
        "words_in_quote"
      ],
      "metadata": {
        "colab": {
          "base_uri": "https://localhost:8080/"
        },
        "id": "x7zQYo4rVuyH",
        "outputId": "f7430b68-5eda-4240-cb6f-f3b6dc6737da"
      },
      "execution_count": null,
      "outputs": [
        {
          "output_type": "execute_result",
          "data": {
            "text/plain": [
              "['What', 'is', 'your', 'Name']"
            ]
          },
          "metadata": {},
          "execution_count": 13
        }
      ]
    },
    {
      "cell_type": "code",
      "source": [
        "#Removing Stop words:\n",
        "filtered_list=[]\n",
        "for word in words_in_quote:\n",
        "  if word.casefold() not in stop_words:\n",
        "    filtered_list.append(word)"
      ],
      "metadata": {
        "id": "5xPKWi4ZXWOE"
      },
      "execution_count": null,
      "outputs": []
    },
    {
      "cell_type": "code",
      "source": [
        "print('Tokenized list with stop words: {}'.format(words_in_quote))\n",
        "print('Tokenized list with out stop words: {}'.format(filtered_list))"
      ],
      "metadata": {
        "colab": {
          "base_uri": "https://localhost:8080/"
        },
        "id": "uKylR-B4YxzO",
        "outputId": "9ad0714c-0a34-4444-f3ab-8c394cd35732"
      },
      "execution_count": null,
      "outputs": [
        {
          "output_type": "stream",
          "name": "stdout",
          "text": [
            "Tokenized list with stop words: ['What', 'is', 'your', 'Name']\n",
            "Tokenized list with out stop words: ['Name']\n"
          ]
        }
      ]
    },
    {
      "cell_type": "code",
      "source": [
        "for word in words_in_quote:\n",
        "  print(word, word.casefold() in stop_words)"
      ],
      "metadata": {
        "colab": {
          "base_uri": "https://localhost:8080/"
        },
        "id": "CYFyagRiiJA6",
        "outputId": "a2adea7a-8905-49a6-b885-55cc71c832b5"
      },
      "execution_count": null,
      "outputs": [
        {
          "output_type": "stream",
          "name": "stdout",
          "text": [
            "What True\n",
            "is True\n",
            "your True\n",
            "Name False\n"
          ]
        }
      ]
    },
    {
      "cell_type": "markdown",
      "source": [
        "# Stemming"
      ],
      "metadata": {
        "id": "UaZL0-LFm3TY"
      }
    },
    {
      "cell_type": "code",
      "source": [
        "#from nltk.stem import PorterStemmer\n",
        "from nltk.stem import SnowballStemmer\n",
        "from nltk.tokenize import word_tokenize"
      ],
      "metadata": {
        "id": "5eHGAhhDm2A3"
      },
      "execution_count": null,
      "outputs": []
    },
    {
      "cell_type": "code",
      "source": [
        "stemmer = SnowballStemmer(\"english\")\n",
        "#PorterStemmer()"
      ],
      "metadata": {
        "id": "U7lY2Y2DnKsS"
      },
      "execution_count": null,
      "outputs": []
    },
    {
      "cell_type": "code",
      "source": [
        "string_for_stemming = \"\"\"\n",
        "... The crew of the USS Discovery discovered many discoveries.\n",
        "... Discovering is what explorers do.\"\"\""
      ],
      "metadata": {
        "id": "ptUH95cqnXAi"
      },
      "execution_count": null,
      "outputs": []
    },
    {
      "cell_type": "code",
      "source": [
        "words = word_tokenize(string_for_stemming.strip())\n",
        "print(words)"
      ],
      "metadata": {
        "colab": {
          "base_uri": "https://localhost:8080/"
        },
        "id": "Uc0Ob-0fnjBU",
        "outputId": "a52ad6ca-fd6b-4d7c-ec43-f84e3aef9b57"
      },
      "execution_count": null,
      "outputs": [
        {
          "output_type": "stream",
          "name": "stdout",
          "text": [
            "['The', 'crew', 'of', 'the', 'USS', 'Discovery', 'discovered', 'many', 'discoveries', '.', 'Discovering', 'is', 'what', 'explorers', 'do', '.']\n"
          ]
        }
      ]
    },
    {
      "cell_type": "code",
      "source": [
        "stemmed_words = [stemmer.stem(word) for word in words]"
      ],
      "metadata": {
        "id": "43AWL2W5nr8C"
      },
      "execution_count": null,
      "outputs": []
    },
    {
      "cell_type": "code",
      "source": [
        "print(stemmed_words)"
      ],
      "metadata": {
        "colab": {
          "base_uri": "https://localhost:8080/"
        },
        "id": "P0mRqNKFoTXf",
        "outputId": "870dc370-0a2f-4351-e49a-1a4111d6fef6"
      },
      "execution_count": null,
      "outputs": [
        {
          "output_type": "stream",
          "name": "stdout",
          "text": [
            "['the', 'crew', 'of', 'the', 'uss', 'discoveri', 'discov', 'mani', 'discoveri', '.', 'discov', 'is', 'what', 'explor', 'do', '.']\n"
          ]
        }
      ]
    },
    {
      "cell_type": "markdown",
      "source": [
        "## Original word\tStemmed version\n",
        "Discovery'\t      'discoveri'\n",
        "\n",
        "1.   'discovered'\t    'discov'\n",
        "2.   'discoveries'\t  'discoveri'\n",
        "3. 'discoveries'\t    'discoveri'\n",
        "4.  'Discovering'\t    'discov'"
      ],
      "metadata": {
        "id": "NMr3Nm5bq3NI"
      }
    },
    {
      "cell_type": "markdown",
      "source": [
        "**POS Tagging**\n",
        "\n",
        "\n",
        "\n"
      ],
      "metadata": {
        "id": "omFh91oTjth3"
      }
    },
    {
      "cell_type": "code",
      "source": [
        "import nltk\n",
        "nltk.download('punkt')\n",
        "from nltk.tokenize import word_tokenize\n",
        "nltk.download('universal_tagset')\n",
        "from nltk.tag import pos_tag\n",
        "nltk.download('averaged_perceptron_tagger')\n",
        "#The averaged_perceptron_tagger contains the pre-trained English [Part-of-Speech (POS)] tagger in NLTK."
      ],
      "metadata": {
        "colab": {
          "base_uri": "https://localhost:8080/"
        },
        "id": "BVm_pxKxT2Mo",
        "outputId": "601c1ea9-574d-49e5-c5ee-071adec55353"
      },
      "execution_count": null,
      "outputs": [
        {
          "output_type": "stream",
          "name": "stderr",
          "text": [
            "[nltk_data] Downloading package punkt to /root/nltk_data...\n",
            "[nltk_data]   Package punkt is already up-to-date!\n",
            "[nltk_data] Downloading package universal_tagset to /root/nltk_data...\n",
            "[nltk_data]   Unzipping taggers/universal_tagset.zip.\n",
            "[nltk_data] Downloading package averaged_perceptron_tagger to\n",
            "[nltk_data]     /root/nltk_data...\n",
            "[nltk_data]   Unzipping taggers/averaged_perceptron_tagger.zip.\n"
          ]
        },
        {
          "output_type": "execute_result",
          "data": {
            "text/plain": [
              "True"
            ]
          },
          "metadata": {},
          "execution_count": 23
        }
      ]
    },
    {
      "cell_type": "code",
      "source": [
        "sagan_quote = \"\"\"\n",
        "... If you wish to make an apple pie from scratch,\n",
        "... you must first invent the universe.\"\"\""
      ],
      "metadata": {
        "id": "s6y49YQ6U5iZ"
      },
      "execution_count": null,
      "outputs": []
    },
    {
      "cell_type": "code",
      "source": [
        "words_in_sagan_quote =  word_tokenize(sagan_quote)\n",
        "nltk.pos_tag(words_in_sagan_quote,tagset='universal')\n",
        "#nltk.pos_tag(words_in_sagan_quote)"
      ],
      "metadata": {
        "colab": {
          "base_uri": "https://localhost:8080/"
        },
        "id": "qhiuX5kYI8JA",
        "outputId": "0de44f9d-afb5-4a21-bb31-ec647f04cb5d"
      },
      "execution_count": null,
      "outputs": [
        {
          "output_type": "execute_result",
          "data": {
            "text/plain": [
              "[('If', 'ADP'),\n",
              " ('you', 'PRON'),\n",
              " ('wish', 'VERB'),\n",
              " ('to', 'PRT'),\n",
              " ('make', 'VERB'),\n",
              " ('an', 'DET'),\n",
              " ('apple', 'NOUN'),\n",
              " ('pie', 'NOUN'),\n",
              " ('from', 'ADP'),\n",
              " ('scratch', 'NOUN'),\n",
              " (',', '.'),\n",
              " ('you', 'PRON'),\n",
              " ('must', 'VERB'),\n",
              " ('first', 'VERB'),\n",
              " ('invent', 'VERB'),\n",
              " ('the', 'DET'),\n",
              " ('universe', 'NOUN'),\n",
              " ('.', '.')]"
            ]
          },
          "metadata": {},
          "execution_count": 25
        }
      ]
    },
    {
      "cell_type": "code",
      "source": [
        "nltk.download('tagsets')\n",
        "nltk.help.upenn_tagset()"
      ],
      "metadata": {
        "id": "NRnJSlLwWP3_",
        "colab": {
          "base_uri": "https://localhost:8080/"
        },
        "outputId": "d48127ed-5978-4c9b-a69f-b50c483594ea"
      },
      "execution_count": null,
      "outputs": [
        {
          "output_type": "stream",
          "name": "stdout",
          "text": [
            "$: dollar\n",
            "    $ -$ --$ A$ C$ HK$ M$ NZ$ S$ U.S.$ US$\n",
            "'': closing quotation mark\n",
            "    ' ''\n",
            "(: opening parenthesis\n",
            "    ( [ {\n",
            "): closing parenthesis\n",
            "    ) ] }\n",
            ",: comma\n",
            "    ,\n",
            "--: dash\n",
            "    --\n",
            ".: sentence terminator\n",
            "    . ! ?\n",
            ":: colon or ellipsis\n",
            "    : ; ...\n",
            "CC: conjunction, coordinating\n",
            "    & 'n and both but either et for less minus neither nor or plus so\n",
            "    therefore times v. versus vs. whether yet\n",
            "CD: numeral, cardinal\n",
            "    mid-1890 nine-thirty forty-two one-tenth ten million 0.5 one forty-\n",
            "    seven 1987 twenty '79 zero two 78-degrees eighty-four IX '60s .025\n",
            "    fifteen 271,124 dozen quintillion DM2,000 ...\n",
            "DT: determiner\n",
            "    all an another any both del each either every half la many much nary\n",
            "    neither no some such that the them these this those\n",
            "EX: existential there\n",
            "    there\n",
            "FW: foreign word\n",
            "    gemeinschaft hund ich jeux habeas Haementeria Herr K'ang-si vous\n",
            "    lutihaw alai je jour objets salutaris fille quibusdam pas trop Monte\n",
            "    terram fiche oui corporis ...\n",
            "IN: preposition or conjunction, subordinating\n",
            "    astride among uppon whether out inside pro despite on by throughout\n",
            "    below within for towards near behind atop around if like until below\n",
            "    next into if beside ...\n",
            "JJ: adjective or numeral, ordinal\n",
            "    third ill-mannered pre-war regrettable oiled calamitous first separable\n",
            "    ectoplasmic battery-powered participatory fourth still-to-be-named\n",
            "    multilingual multi-disciplinary ...\n",
            "JJR: adjective, comparative\n",
            "    bleaker braver breezier briefer brighter brisker broader bumper busier\n",
            "    calmer cheaper choosier cleaner clearer closer colder commoner costlier\n",
            "    cozier creamier crunchier cuter ...\n",
            "JJS: adjective, superlative\n",
            "    calmest cheapest choicest classiest cleanest clearest closest commonest\n",
            "    corniest costliest crassest creepiest crudest cutest darkest deadliest\n",
            "    dearest deepest densest dinkiest ...\n",
            "LS: list item marker\n",
            "    A A. B B. C C. D E F First G H I J K One SP-44001 SP-44002 SP-44005\n",
            "    SP-44007 Second Third Three Two * a b c d first five four one six three\n",
            "    two\n",
            "MD: modal auxiliary\n",
            "    can cannot could couldn't dare may might must need ought shall should\n",
            "    shouldn't will would\n",
            "NN: noun, common, singular or mass\n",
            "    common-carrier cabbage knuckle-duster Casino afghan shed thermostat\n",
            "    investment slide humour falloff slick wind hyena override subhumanity\n",
            "    machinist ...\n",
            "NNP: noun, proper, singular\n",
            "    Motown Venneboerger Czestochwa Ranzer Conchita Trumplane Christos\n",
            "    Oceanside Escobar Kreisler Sawyer Cougar Yvette Ervin ODI Darryl CTCA\n",
            "    Shannon A.K.C. Meltex Liverpool ...\n",
            "NNPS: noun, proper, plural\n",
            "    Americans Americas Amharas Amityvilles Amusements Anarcho-Syndicalists\n",
            "    Andalusians Andes Andruses Angels Animals Anthony Antilles Antiques\n",
            "    Apache Apaches Apocrypha ...\n",
            "NNS: noun, common, plural\n",
            "    undergraduates scotches bric-a-brac products bodyguards facets coasts\n",
            "    divestitures storehouses designs clubs fragrances averages\n",
            "    subjectivists apprehensions muses factory-jobs ...\n",
            "PDT: pre-determiner\n",
            "    all both half many quite such sure this\n",
            "POS: genitive marker\n",
            "    ' 's\n",
            "PRP: pronoun, personal\n",
            "    hers herself him himself hisself it itself me myself one oneself ours\n",
            "    ourselves ownself self she thee theirs them themselves they thou thy us\n",
            "PRP$: pronoun, possessive\n",
            "    her his mine my our ours their thy your\n",
            "RB: adverb\n",
            "    occasionally unabatingly maddeningly adventurously professedly\n",
            "    stirringly prominently technologically magisterially predominately\n",
            "    swiftly fiscally pitilessly ...\n",
            "RBR: adverb, comparative\n",
            "    further gloomier grander graver greater grimmer harder harsher\n",
            "    healthier heavier higher however larger later leaner lengthier less-\n",
            "    perfectly lesser lonelier longer louder lower more ...\n",
            "RBS: adverb, superlative\n",
            "    best biggest bluntest earliest farthest first furthest hardest\n",
            "    heartiest highest largest least less most nearest second tightest worst\n",
            "RP: particle\n",
            "    aboard about across along apart around aside at away back before behind\n",
            "    by crop down ever fast for forth from go high i.e. in into just later\n",
            "    low more off on open out over per pie raising start teeth that through\n",
            "    under unto up up-pp upon whole with you\n",
            "SYM: symbol\n",
            "    % & ' '' ''. ) ). * + ,. < = > @ A[fj] U.S U.S.S.R * ** ***\n",
            "TO: \"to\" as preposition or infinitive marker\n",
            "    to\n",
            "UH: interjection\n",
            "    Goodbye Goody Gosh Wow Jeepers Jee-sus Hubba Hey Kee-reist Oops amen\n",
            "    huh howdy uh dammit whammo shucks heck anyways whodunnit honey golly\n",
            "    man baby diddle hush sonuvabitch ...\n",
            "VB: verb, base form\n",
            "    ask assemble assess assign assume atone attention avoid bake balkanize\n",
            "    bank begin behold believe bend benefit bevel beware bless boil bomb\n",
            "    boost brace break bring broil brush build ...\n",
            "VBD: verb, past tense\n",
            "    dipped pleaded swiped regummed soaked tidied convened halted registered\n",
            "    cushioned exacted snubbed strode aimed adopted belied figgered\n",
            "    speculated wore appreciated contemplated ...\n",
            "VBG: verb, present participle or gerund\n",
            "    telegraphing stirring focusing angering judging stalling lactating\n",
            "    hankerin' alleging veering capping approaching traveling besieging\n",
            "    encrypting interrupting erasing wincing ...\n",
            "VBN: verb, past participle\n",
            "    multihulled dilapidated aerosolized chaired languished panelized used\n",
            "    experimented flourished imitated reunifed factored condensed sheared\n",
            "    unsettled primed dubbed desired ...\n",
            "VBP: verb, present tense, not 3rd person singular\n",
            "    predominate wrap resort sue twist spill cure lengthen brush terminate\n",
            "    appear tend stray glisten obtain comprise detest tease attract\n",
            "    emphasize mold postpone sever return wag ...\n",
            "VBZ: verb, present tense, 3rd person singular\n",
            "    bases reconstructs marks mixes displeases seals carps weaves snatches\n",
            "    slumps stretches authorizes smolders pictures emerges stockpiles\n",
            "    seduces fizzes uses bolsters slaps speaks pleads ...\n",
            "WDT: WH-determiner\n",
            "    that what whatever which whichever\n",
            "WP: WH-pronoun\n",
            "    that what whatever whatsoever which who whom whosoever\n",
            "WP$: WH-pronoun, possessive\n",
            "    whose\n",
            "WRB: Wh-adverb\n",
            "    how however whence whenever where whereby whereever wherein whereof why\n",
            "``: opening quotation mark\n",
            "    ` ``\n"
          ]
        },
        {
          "output_type": "stream",
          "name": "stderr",
          "text": [
            "[nltk_data] Downloading package tagsets to /root/nltk_data...\n",
            "[nltk_data]   Unzipping help/tagsets.zip.\n"
          ]
        }
      ]
    },
    {
      "cell_type": "markdown",
      "source": [
        "# Lemmatizing"
      ],
      "metadata": {
        "id": "FqFgfTiTrkPx"
      }
    },
    {
      "cell_type": "code",
      "source": [
        "#import nltk\n",
        "from nltk.stem import WordNetLemmatizer\n",
        "nltk.download('wordnet')\n",
        "#WordNet is a lexical database of English. https://wordnet.princeton.edu/\n",
        "nltk.download('omw-1.4')\n",
        "#use Multilingual Wordnet Data from OMW with newer Wordnet versions\n",
        "#Open Multilingual Wordnet. http://compling.hss.ntu.edu.sg/omw/"
      ],
      "metadata": {
        "id": "c_wt06SfrAE-",
        "colab": {
          "base_uri": "https://localhost:8080/"
        },
        "outputId": "eed426c6-b91f-42f4-c1d3-31313f48c747"
      },
      "execution_count": null,
      "outputs": [
        {
          "output_type": "stream",
          "name": "stderr",
          "text": [
            "[nltk_data] Downloading package wordnet to /root/nltk_data...\n",
            "[nltk_data] Downloading package omw-1.4 to /root/nltk_data...\n"
          ]
        },
        {
          "output_type": "execute_result",
          "data": {
            "text/plain": [
              "True"
            ]
          },
          "metadata": {},
          "execution_count": 27
        }
      ]
    },
    {
      "cell_type": "code",
      "source": [
        "lemmatizer=WordNetLemmatizer()\n",
        "\n",
        "lemmatizer.lemmatize(\"engineers\")"
      ],
      "metadata": {
        "colab": {
          "base_uri": "https://localhost:8080/",
          "height": 36
        },
        "id": "CYJcLlGysorY",
        "outputId": "af800fb8-423d-4c89-d499-9cb472e0942a"
      },
      "execution_count": null,
      "outputs": [
        {
          "output_type": "execute_result",
          "data": {
            "text/plain": [
              "'engineer'"
            ],
            "application/vnd.google.colaboratory.intrinsic+json": {
              "type": "string"
            }
          },
          "metadata": {},
          "execution_count": 28
        }
      ]
    },
    {
      "cell_type": "code",
      "source": [
        "string_for_lemmatizing = \"The friends of DeSoto love scarves.\"\n",
        "words = word_tokenize(string_for_lemmatizing)\n",
        "print(words)"
      ],
      "metadata": {
        "id": "-i-w71xRugwg",
        "colab": {
          "base_uri": "https://localhost:8080/"
        },
        "outputId": "e214d007-7f4f-463f-e652-bed69beb2dac"
      },
      "execution_count": null,
      "outputs": [
        {
          "output_type": "stream",
          "name": "stdout",
          "text": [
            "['The', 'friends', 'of', 'DeSoto', 'love', 'scarves', '.']\n"
          ]
        }
      ]
    },
    {
      "cell_type": "code",
      "source": [
        "lemmatized_words = [lemmatizer.lemmatize(word) for word in words]\n",
        "print(lemmatized_words)"
      ],
      "metadata": {
        "id": "CM_Mr9L2TRqx",
        "colab": {
          "base_uri": "https://localhost:8080/"
        },
        "outputId": "270a8cb3-49bd-4c95-f168-d29791bff397"
      },
      "execution_count": null,
      "outputs": [
        {
          "output_type": "stream",
          "name": "stdout",
          "text": [
            "['The', 'friend', 'of', 'DeSoto', 'love', 'scarf', '.']\n"
          ]
        }
      ]
    },
    {
      "cell_type": "code",
      "source": [
        "print(lemmatizer.lemmatize(\"finished\"))\n",
        "word_tok=nltk.word_tokenize(\"finished\")\n",
        "a=nltk.pos_tag(word_tok,tagset='universal')\n",
        "print(a)\n",
        "print(lemmatizer.lemmatize(\"finished\", pos=\"v\"))\n"
      ],
      "metadata": {
        "colab": {
          "base_uri": "https://localhost:8080/"
        },
        "id": "Qjvaohh3VE1L",
        "outputId": "4572fc33-1435-4b98-e288-67d3055fe49e"
      },
      "execution_count": null,
      "outputs": [
        {
          "output_type": "stream",
          "name": "stdout",
          "text": [
            "finished\n",
            "[('finished', 'VERB')]\n",
            "finish\n"
          ]
        }
      ]
    },
    {
      "cell_type": "markdown",
      "source": [
        "# Chunking"
      ],
      "metadata": {
        "id": "0nRCqAmJgYcu"
      }
    },
    {
      "cell_type": "code",
      "source": [
        "from nltk.tokenize import word_tokenize\n",
        "nltk.download(\"averaged_perceptron_tagger\")"
      ],
      "metadata": {
        "colab": {
          "base_uri": "https://localhost:8080/"
        },
        "id": "vn_dTMC7gcum",
        "outputId": "125b405e-e20d-4f67-e35c-f740098cf4eb"
      },
      "execution_count": null,
      "outputs": [
        {
          "output_type": "stream",
          "name": "stderr",
          "text": [
            "[nltk_data] Downloading package averaged_perceptron_tagger to\n",
            "[nltk_data]     /root/nltk_data...\n",
            "[nltk_data]   Package averaged_perceptron_tagger is already up-to-\n",
            "[nltk_data]       date!\n"
          ]
        },
        {
          "output_type": "execute_result",
          "data": {
            "text/plain": [
              "True"
            ]
          },
          "metadata": {},
          "execution_count": 32
        }
      ]
    },
    {
      "cell_type": "code",
      "source": [
        "lotr_quote = \"It's a dangerous business, Frodo, going out your door.\"\n",
        "word_in_lotr_quote=word_tokenize(lotr_quote)\n",
        "lotr_pos_tags = nltk.pos_tag(word_in_lotr_quote)\n",
        "print(lotr_pos_tags)"
      ],
      "metadata": {
        "colab": {
          "base_uri": "https://localhost:8080/"
        },
        "id": "ME9V9WAtgvk6",
        "outputId": "7ca01f12-62d5-4874-fb80-538f3feb3d29"
      },
      "execution_count": null,
      "outputs": [
        {
          "output_type": "stream",
          "name": "stdout",
          "text": [
            "[('It', 'PRP'), (\"'s\", 'VBZ'), ('a', 'DT'), ('dangerous', 'JJ'), ('business', 'NN'), (',', ','), ('Frodo', 'NNP'), (',', ','), ('going', 'VBG'), ('out', 'RP'), ('your', 'PRP$'), ('door', 'NN'), ('.', '.')]\n"
          ]
        }
      ]
    },
    {
      "cell_type": "code",
      "source": [
        "grammar = \"NP: {<DT>?<JJ>*<NN>}\"\n",
        "\"\"\" NP stands for noun phrase. You can learn more about noun phrase chunking in Chapter 7 of \n",
        "... Natural Language Processing with Python—Analyzing Text with the Natural Language Toolkit.\n",
        "... according to the rule you created, your chunks: \n",
        "... Start with an optional (?) determiner ('DT')\n",
        "... Can have any number (*) of adjectives (JJ)\n",
        "... End with a noun (<NN>)\"\"\""
      ],
      "metadata": {
        "colab": {
          "base_uri": "https://localhost:8080/",
          "height": 105
        },
        "id": "i4ujsnQp-TAI",
        "outputId": "59b8dcff-16a6-448a-a9c3-d2a53def76d4"
      },
      "execution_count": null,
      "outputs": [
        {
          "output_type": "execute_result",
          "data": {
            "text/plain": [
              "\" NP stands for noun phrase. You can learn more about noun phrase chunking in Chapter 7 of \\n... Natural Language Processing with Python—Analyzing Text with the Natural Language Toolkit.\\n... according to the rule you created, your chunks: \\n... Start with an optional (?) determiner ('DT')\\n... Can have any number (*) of adjectives (JJ)\\n... End with a noun (<NN>)\""
            ],
            "application/vnd.google.colaboratory.intrinsic+json": {
              "type": "string"
            }
          },
          "metadata": {},
          "execution_count": 41
        }
      ]
    },
    {
      "cell_type": "code",
      "source": [
        "#Create a chunk parser with this grammar\n",
        "chunk_parser = nltk.RegexpParser(grammar)\n",
        "tree = chunk_parser.parse(lotr_pos_tags)\n",
        "#tree.draw()\n",
        "tree.pretty_print(unicodelines=True, nodedist=5)"
      ],
      "metadata": {
        "colab": {
          "base_uri": "https://localhost:8080/"
        },
        "id": "2cLFR-0n_tYh",
        "outputId": "c1bae42d-c4e1-4305-9f2f-5e1363e0e025"
      },
      "execution_count": null,
      "outputs": [
        {
          "output_type": "stream",
          "name": "stdout",
          "text": [
            "                                                                    S                                                                               \n",
            "  ┌──────────┬─────────┬──────────┬──────────┬──────────┬───────────┼────────────┬──────────┬────────────────────┬──────────────────────────────┐        \n",
            "  │          │         │          │          │          │           │            │          │                    NP                             NP  \n",
            "  │          │         │          │          │          │           │            │          │       ┌────────────┼────────────────┐             │        \n",
            "It/PRP     's/VBZ     ,/,     Frodo/NNP     ,/,     going/VBG     out/RP     your/PRP$     ./.     a/DT     dangerous/JJ     business/NN     door/NN\n",
            "\n"
          ]
        }
      ]
    },
    {
      "cell_type": "markdown",
      "source": [
        "# Chinking"
      ],
      "metadata": {
        "id": "5ggDuBvMDrat"
      }
    },
    {
      "cell_type": "code",
      "source": [
        "lotr_pos_tags"
      ],
      "metadata": {
        "colab": {
          "base_uri": "https://localhost:8080/"
        },
        "id": "WtXdNrweD4Bl",
        "outputId": "68c2a368-0704-45b2-d62b-0eb9edecfe75"
      },
      "execution_count": null,
      "outputs": [
        {
          "output_type": "execute_result",
          "data": {
            "text/plain": [
              "[('It', 'PRP'),\n",
              " (\"'s\", 'VBZ'),\n",
              " ('a', 'DT'),\n",
              " ('dangerous', 'JJ'),\n",
              " ('business', 'NN'),\n",
              " (',', ','),\n",
              " ('Frodo', 'NNP'),\n",
              " (',', ','),\n",
              " ('going', 'VBG'),\n",
              " ('out', 'RP'),\n",
              " ('your', 'PRP$'),\n",
              " ('door', 'NN'),\n",
              " ('.', '.')]"
            ]
          },
          "metadata": {},
          "execution_count": 36
        }
      ]
    },
    {
      "cell_type": "code",
      "source": [
        "grammar = \"\"\"\n",
        "... Chunk: {<.*>+}\n",
        "...        }<JJ>{\"\"\"\n",
        "#Create a chunk parser with this grammar\n",
        "chunk_parser = nltk.RegexpParser(grammar)\n",
        "tree=chunk_parser.parse(lotr_pos_tags)\n",
        "tree.pretty_print(unicodelines=True, nodedist=5)"
      ],
      "metadata": {
        "colab": {
          "base_uri": "https://localhost:8080/"
        },
        "id": "0S5jPzk5LtT2",
        "outputId": "9324cbdf-f333-4a28-cae2-acdc340d6ef3"
      },
      "execution_count": null,
      "outputs": [
        {
          "output_type": "stream",
          "name": "stdout",
          "text": [
            "                                                                            S                                                                       \n",
            "     ┌────────────────────────┬─────────────────────────────────────────────┴─────────────────────┐                                                      \n",
            "     │                      Chunk                                                               Chunk                                               \n",
            "     │             ┌──────────┼─────────┐            ┌───────────┬──────────┬──────────┬──────────┼───────────┬────────────┬────────────┬─────────┐      \n",
            "dangerous/JJ     It/PRP     's/VBZ     a/DT     business/NN     ,/,     Frodo/NNP     ,/,     going/VBG     out/RP     your/PRP$     door/NN     ./.\n",
            "\n"
          ]
        }
      ]
    },
    {
      "cell_type": "markdown",
      "source": [
        "## Using Named Entity Recognition (NER)\n"
      ],
      "metadata": {
        "id": "wg_d2Kq8RHEy"
      }
    },
    {
      "cell_type": "code",
      "source": [
        "import nltk\n",
        "nltk.download(\"maxent_ne_chunker\")\n",
        "nltk.download(\"words\")\n",
        "print(words)\n",
        "tree = nltk.ne_chunk(lotr_pos_tags, binary=False)\n",
        "tree.pretty_print(unicodelines=True, nodedist=5)"
      ],
      "metadata": {
        "colab": {
          "base_uri": "https://localhost:8080/"
        },
        "id": "ermUnniwRCGM",
        "outputId": "7cad6cd1-b505-4758-c5eb-1ce6e043ff91"
      },
      "execution_count": null,
      "outputs": [
        {
          "output_type": "stream",
          "name": "stdout",
          "text": [
            "['The', 'friends', 'of', 'DeSoto', 'love', 'scarves', '.']\n",
            "                                                                         S                                                                          \n",
            "  ┌──────────┬─────────┬────────────┬────────────────┬───────────┬───────┼──────────┬───────────┬────────────┬────────────┬─────────┬──────────┐         \n",
            "  │          │         │            │                │           │       │          │           │            │            │         │        PERSON \n",
            "  │          │         │            │                │           │       │          │           │            │            │         │          │         \n",
            "It/PRP     's/VBZ     a/DT     dangerous/JJ     business/NN     ,/,     ,/,     going/VBG     out/RP     your/PRP$     door/NN     ./.     Frodo/NNP\n",
            "\n"
          ]
        },
        {
          "output_type": "stream",
          "name": "stderr",
          "text": [
            "[nltk_data] Downloading package maxent_ne_chunker to\n",
            "[nltk_data]     /root/nltk_data...\n",
            "[nltk_data]   Package maxent_ne_chunker is already up-to-date!\n",
            "[nltk_data] Downloading package words to /root/nltk_data...\n",
            "[nltk_data]   Package words is already up-to-date!\n"
          ]
        }
      ]
    },
    {
      "cell_type": "code",
      "source": [
        "new_quote = \"Sundar Pichai is CEO of GOOGLE\"\n",
        "q_tok=word_tokenize(new_quote)\n",
        "q_pos_tags = nltk.pos_tag(q_tok)\n",
        "print(q_pos_tags)\n",
        "import nltk\n",
        "nltk.download(\"maxent_ne_chunker\")\n",
        "nltk.download(\"words\")\n",
        "print(words)\n",
        "tree = nltk.ne_chunk(q_pos_tags, binary=True)\n",
        "tree.pretty_print(unicodelines=True, nodedist=5)"
      ],
      "metadata": {
        "colab": {
          "base_uri": "https://localhost:8080/"
        },
        "id": "diNC_-winlCC",
        "outputId": "45c979b4-e2d3-4bfb-febc-2f193a460f88"
      },
      "execution_count": null,
      "outputs": [
        {
          "output_type": "stream",
          "name": "stdout",
          "text": [
            "[('Sundar', 'NNP'), ('Pichai', 'NNP'), ('is', 'VBZ'), ('CEO', 'NNP'), ('of', 'IN'), ('GOOGLE', 'NNP')]\n",
            "['The', 'friends', 'of', 'DeSoto', 'love', 'scarves', '.']\n",
            "                         S                                                       \n",
            "  ┌───────────┬──────────┼───────────────────────┬─────────────────────────┐          \n",
            "  │           │          │                       NE                        NE    \n",
            "  │           │          │           ┌───────────┴──────────┐              │          \n",
            "is/VBZ     CEO/NNP     of/IN     Sundar/NNP             Pichai/NNP     GOOGLE/NNP\n",
            "\n"
          ]
        },
        {
          "output_type": "stream",
          "name": "stderr",
          "text": [
            "[nltk_data] Downloading package maxent_ne_chunker to\n",
            "[nltk_data]     /root/nltk_data...\n",
            "[nltk_data]   Package maxent_ne_chunker is already up-to-date!\n",
            "[nltk_data] Downloading package words to /root/nltk_data...\n",
            "[nltk_data]   Package words is already up-to-date!\n"
          ]
        }
      ]
    },
    {
      "cell_type": "code",
      "source": [],
      "metadata": {
        "id": "r36gGYPTgUfc"
      },
      "execution_count": null,
      "outputs": []
    }
  ]
}